{
 "cells": [
  {
   "cell_type": "markdown",
   "id": "6ce65938",
   "metadata": {},
   "source": [
    "# Projet évaluation de performance\n",
    "## génération automatique d'un emploi du temps\n",
    "#### _Hoel Roquinarc'h - Théo Manéa_\n"
   ]
  },
  {
   "cell_type": "markdown",
   "id": "459263ac",
   "metadata": {},
   "source": [
    "### Entrée des données"
   ]
  },
  {
   "cell_type": "code",
   "execution_count": 1,
   "id": "3879de1f",
   "metadata": {},
   "outputs": [],
   "source": [
    "import numpy as np\n",
    "import pandas as pd"
   ]
  },
  {
   "cell_type": "code",
   "execution_count": 2,
   "id": "b3858282",
   "metadata": {},
   "outputs": [],
   "source": [
    "data=open(\"data/profs.txt\")\n",
    "list_prof=data.readlines()\n",
    "\n",
    "data=open(\"data/matiere.txt\")\n",
    "list_sujet=data.readlines()\n",
    "\n",
    "'''data=open(\"data/classes.txt\")\n",
    "list_class=data.readlines()'''\n",
    "\n",
    "nb_class= 3\n",
    "nb_TsPerDay = 2\n",
    "nb_room = 4"
   ]
  },
  {
   "cell_type": "code",
   "execution_count": 3,
   "id": "c4593936",
   "metadata": {},
   "outputs": [],
   "source": [
    "#list prof -> dataframe\n",
    "data_lines=[]\n",
    "for d in list_prof : \n",
    "    data_lines.append(d[:len(d)-1].split(\"\\t\"))\n",
    "    \n",
    "list_prof=pd.DataFrame(data_lines,columns=[\"id\",\"nom\",\"matiere\"])"
   ]
  },
  {
   "cell_type": "code",
   "execution_count": 4,
   "id": "f9e88c7a",
   "metadata": {},
   "outputs": [
    {
     "data": {
      "text/html": [
       "<div>\n",
       "<style scoped>\n",
       "    .dataframe tbody tr th:only-of-type {\n",
       "        vertical-align: middle;\n",
       "    }\n",
       "\n",
       "    .dataframe tbody tr th {\n",
       "        vertical-align: top;\n",
       "    }\n",
       "\n",
       "    .dataframe thead th {\n",
       "        text-align: right;\n",
       "    }\n",
       "</style>\n",
       "<table border=\"1\" class=\"dataframe\">\n",
       "  <thead>\n",
       "    <tr style=\"text-align: right;\">\n",
       "      <th></th>\n",
       "      <th>id</th>\n",
       "      <th>nom</th>\n",
       "      <th>matiere</th>\n",
       "    </tr>\n",
       "  </thead>\n",
       "  <tbody>\n",
       "    <tr>\n",
       "      <th>0</th>\n",
       "      <td>000</td>\n",
       "      <td>Prof_1</td>\n",
       "      <td>001 005</td>\n",
       "    </tr>\n",
       "    <tr>\n",
       "      <th>1</th>\n",
       "      <td>001</td>\n",
       "      <td>Prof_2</td>\n",
       "      <td>002 003</td>\n",
       "    </tr>\n",
       "    <tr>\n",
       "      <th>2</th>\n",
       "      <td>002</td>\n",
       "      <td>Prof_3</td>\n",
       "      <td>003</td>\n",
       "    </tr>\n",
       "    <tr>\n",
       "      <th>3</th>\n",
       "      <td>003</td>\n",
       "      <td>Prof_4</td>\n",
       "      <td>004 008</td>\n",
       "    </tr>\n",
       "    <tr>\n",
       "      <th>4</th>\n",
       "      <td>004</td>\n",
       "      <td>Prof_5</td>\n",
       "      <td>002 004</td>\n",
       "    </tr>\n",
       "    <tr>\n",
       "      <th>5</th>\n",
       "      <td>005</td>\n",
       "      <td>Prof_6</td>\n",
       "      <td>001 005 007 009</td>\n",
       "    </tr>\n",
       "    <tr>\n",
       "      <th>6</th>\n",
       "      <td>006</td>\n",
       "      <td>Prof_7</td>\n",
       "      <td>006 00</td>\n",
       "    </tr>\n",
       "  </tbody>\n",
       "</table>\n",
       "</div>"
      ],
      "text/plain": [
       "    id     nom          matiere\n",
       "0  000  Prof_1          001 005\n",
       "1  001  Prof_2          002 003\n",
       "2  002  Prof_3              003\n",
       "3  003  Prof_4          004 008\n",
       "4  004  Prof_5          002 004\n",
       "5  005  Prof_6  001 005 007 009\n",
       "6  006  Prof_7           006 00"
      ]
     },
     "execution_count": 4,
     "metadata": {},
     "output_type": "execute_result"
    }
   ],
   "source": [
    "list_prof"
   ]
  },
  {
   "cell_type": "code",
   "execution_count": 5,
   "id": "36481c8a",
   "metadata": {},
   "outputs": [],
   "source": [
    "#list sujet -> dataframe\n",
    "data_lines=[]\n",
    "for d in list_sujet : \n",
    "    data_lines.append(d[:len(d)-1].split(\"\\t\"))\n",
    "    \n",
    "list_sujet=pd.DataFrame(data_lines,columns=[\"id\",\"matiere\"])"
   ]
  },
  {
   "cell_type": "code",
   "execution_count": 6,
   "id": "62e83f95",
   "metadata": {},
   "outputs": [
    {
     "data": {
      "text/plain": [
       "'#list class -> dataframe\\ndata_lines=[]\\nfor d in list_class : \\n    data_lines.append(d[:len(d)-1].split(\"\\t\"))\\n    \\nlist_class=pd.DataFrame(data_lines,columns=[\"id\",\"class\",\"matiere\"])'"
      ]
     },
     "execution_count": 6,
     "metadata": {},
     "output_type": "execute_result"
    }
   ],
   "source": [
    "'''#list class -> dataframe\n",
    "data_lines=[]\n",
    "for d in list_class : \n",
    "    data_lines.append(d[:len(d)-1].split(\"\\t\"))\n",
    "    \n",
    "list_class=pd.DataFrame(data_lines,columns=[\"id\",\"class\",\"matiere\"])'''"
   ]
  },
  {
   "cell_type": "code",
   "execution_count": 7,
   "id": "86790141",
   "metadata": {},
   "outputs": [],
   "source": [
    "#matiere -> list de matiere\n",
    "list_prof[\"mat_list\"]=[list_prof[\"matiere\"][i].split(\" \") for i in range(len(list_prof[\"matiere\"]))]\n",
    "#dropping matiere\n",
    "list_prof=list_prof.drop(columns=[\"matiere\"])"
   ]
  },
  {
   "cell_type": "code",
   "execution_count": 8,
   "id": "8236508d",
   "metadata": {},
   "outputs": [
    {
     "data": {
      "text/plain": [
       "'#meme opération dans list class\\nlist_class[\"mat_list\"]=[list_class[\"matiere\"][i].split(\" \") for i in range(len(list_class[\"matiere\"]))]\\n#dropping matiere\\nlist_class=list_class.drop(columns=[\"matiere\"])'"
      ]
     },
     "execution_count": 8,
     "metadata": {},
     "output_type": "execute_result"
    }
   ],
   "source": [
    "'''#meme opération dans list class\n",
    "list_class[\"mat_list\"]=[list_class[\"matiere\"][i].split(\" \") for i in range(len(list_class[\"matiere\"]))]\n",
    "#dropping matiere\n",
    "list_class=list_class.drop(columns=[\"matiere\"])'''"
   ]
  },
  {
   "cell_type": "code",
   "execution_count": null,
   "id": "4bb73b8a",
   "metadata": {},
   "outputs": [],
   "source": []
  },
  {
   "cell_type": "code",
   "execution_count": 9,
   "id": "705d5172",
   "metadata": {},
   "outputs": [
    {
     "data": {
      "text/html": [
       "<div>\n",
       "<style scoped>\n",
       "    .dataframe tbody tr th:only-of-type {\n",
       "        vertical-align: middle;\n",
       "    }\n",
       "\n",
       "    .dataframe tbody tr th {\n",
       "        vertical-align: top;\n",
       "    }\n",
       "\n",
       "    .dataframe thead th {\n",
       "        text-align: right;\n",
       "    }\n",
       "</style>\n",
       "<table border=\"1\" class=\"dataframe\">\n",
       "  <thead>\n",
       "    <tr style=\"text-align: right;\">\n",
       "      <th></th>\n",
       "      <th>id</th>\n",
       "      <th>nom</th>\n",
       "      <th>mat_list</th>\n",
       "    </tr>\n",
       "  </thead>\n",
       "  <tbody>\n",
       "    <tr>\n",
       "      <th>0</th>\n",
       "      <td>000</td>\n",
       "      <td>Prof_1</td>\n",
       "      <td>[001, 005]</td>\n",
       "    </tr>\n",
       "    <tr>\n",
       "      <th>1</th>\n",
       "      <td>001</td>\n",
       "      <td>Prof_2</td>\n",
       "      <td>[002, 003]</td>\n",
       "    </tr>\n",
       "    <tr>\n",
       "      <th>2</th>\n",
       "      <td>002</td>\n",
       "      <td>Prof_3</td>\n",
       "      <td>[003]</td>\n",
       "    </tr>\n",
       "    <tr>\n",
       "      <th>3</th>\n",
       "      <td>003</td>\n",
       "      <td>Prof_4</td>\n",
       "      <td>[004, 008]</td>\n",
       "    </tr>\n",
       "    <tr>\n",
       "      <th>4</th>\n",
       "      <td>004</td>\n",
       "      <td>Prof_5</td>\n",
       "      <td>[002, 004]</td>\n",
       "    </tr>\n",
       "    <tr>\n",
       "      <th>5</th>\n",
       "      <td>005</td>\n",
       "      <td>Prof_6</td>\n",
       "      <td>[001, 005, 007, 009]</td>\n",
       "    </tr>\n",
       "    <tr>\n",
       "      <th>6</th>\n",
       "      <td>006</td>\n",
       "      <td>Prof_7</td>\n",
       "      <td>[006, 00]</td>\n",
       "    </tr>\n",
       "  </tbody>\n",
       "</table>\n",
       "</div>"
      ],
      "text/plain": [
       "    id     nom              mat_list\n",
       "0  000  Prof_1            [001, 005]\n",
       "1  001  Prof_2            [002, 003]\n",
       "2  002  Prof_3                 [003]\n",
       "3  003  Prof_4            [004, 008]\n",
       "4  004  Prof_5            [002, 004]\n",
       "5  005  Prof_6  [001, 005, 007, 009]\n",
       "6  006  Prof_7             [006, 00]"
      ]
     },
     "execution_count": 9,
     "metadata": {},
     "output_type": "execute_result"
    }
   ],
   "source": [
    "list_prof"
   ]
  },
  {
   "cell_type": "code",
   "execution_count": 10,
   "id": "d912fae3",
   "metadata": {},
   "outputs": [
    {
     "data": {
      "text/html": [
       "<div>\n",
       "<style scoped>\n",
       "    .dataframe tbody tr th:only-of-type {\n",
       "        vertical-align: middle;\n",
       "    }\n",
       "\n",
       "    .dataframe tbody tr th {\n",
       "        vertical-align: top;\n",
       "    }\n",
       "\n",
       "    .dataframe thead th {\n",
       "        text-align: right;\n",
       "    }\n",
       "</style>\n",
       "<table border=\"1\" class=\"dataframe\">\n",
       "  <thead>\n",
       "    <tr style=\"text-align: right;\">\n",
       "      <th></th>\n",
       "      <th>id</th>\n",
       "      <th>matiere</th>\n",
       "    </tr>\n",
       "  </thead>\n",
       "  <tbody>\n",
       "    <tr>\n",
       "      <th>0</th>\n",
       "      <td>000</td>\n",
       "      <td>matiere_0</td>\n",
       "    </tr>\n",
       "    <tr>\n",
       "      <th>1</th>\n",
       "      <td>001</td>\n",
       "      <td>matiere_1</td>\n",
       "    </tr>\n",
       "    <tr>\n",
       "      <th>2</th>\n",
       "      <td>002</td>\n",
       "      <td>matiere_2</td>\n",
       "    </tr>\n",
       "    <tr>\n",
       "      <th>3</th>\n",
       "      <td>003</td>\n",
       "      <td>matiere_3</td>\n",
       "    </tr>\n",
       "    <tr>\n",
       "      <th>4</th>\n",
       "      <td>004</td>\n",
       "      <td>matiere_4</td>\n",
       "    </tr>\n",
       "    <tr>\n",
       "      <th>5</th>\n",
       "      <td>005</td>\n",
       "      <td>matiere_5</td>\n",
       "    </tr>\n",
       "    <tr>\n",
       "      <th>6</th>\n",
       "      <td>006</td>\n",
       "      <td>matiere_6</td>\n",
       "    </tr>\n",
       "    <tr>\n",
       "      <th>7</th>\n",
       "      <td>007</td>\n",
       "      <td>matiere_7</td>\n",
       "    </tr>\n",
       "    <tr>\n",
       "      <th>8</th>\n",
       "      <td>008</td>\n",
       "      <td>matiere_8</td>\n",
       "    </tr>\n",
       "    <tr>\n",
       "      <th>9</th>\n",
       "      <td>009</td>\n",
       "      <td>matiere_9</td>\n",
       "    </tr>\n",
       "  </tbody>\n",
       "</table>\n",
       "</div>"
      ],
      "text/plain": [
       "    id    matiere\n",
       "0  000  matiere_0\n",
       "1  001  matiere_1\n",
       "2  002  matiere_2\n",
       "3  003  matiere_3\n",
       "4  004  matiere_4\n",
       "5  005  matiere_5\n",
       "6  006  matiere_6\n",
       "7  007  matiere_7\n",
       "8  008  matiere_8\n",
       "9  009  matiere_9"
      ]
     },
     "execution_count": 10,
     "metadata": {},
     "output_type": "execute_result"
    }
   ],
   "source": [
    "list_sujet"
   ]
  },
  {
   "cell_type": "code",
   "execution_count": null,
   "id": "58275981",
   "metadata": {},
   "outputs": [],
   "source": []
  },
  {
   "cell_type": "code",
   "execution_count": null,
   "id": "f0ba81c3",
   "metadata": {},
   "outputs": [],
   "source": []
  }
 ],
 "metadata": {
  "kernelspec": {
   "display_name": "Python 3 (ipykernel)",
   "language": "python",
   "name": "python3"
  },
  "language_info": {
   "codemirror_mode": {
    "name": "ipython",
    "version": 3
   },
   "file_extension": ".py",
   "mimetype": "text/x-python",
   "name": "python",
   "nbconvert_exporter": "python",
   "pygments_lexer": "ipython3",
   "version": "3.10.8"
  }
 },
 "nbformat": 4,
 "nbformat_minor": 5
}
